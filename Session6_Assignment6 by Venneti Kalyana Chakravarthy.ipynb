{
 "cells": [
  {
   "cell_type": "code",
   "execution_count": 27,
   "metadata": {},
   "outputs": [
    {
     "name": "stdout",
     "output_type": "stream",
     "text": [
      "Input_Vector \n",
      " [ 5  7  9 11] \n",
      "\n",
      "Output Matrix when boolen argument is True \n",
      " [[    1     5    25   125   625]\n",
      " [    1     7    49   343  2401]\n",
      " [    1     9    81   729  6561]\n",
      " [    1    11   121  1331 14641]] \n",
      "\n",
      "Output Matrix when boolen argument is False \n",
      " [[  625   125    25     5     1]\n",
      " [ 2401   343    49     7     1]\n",
      " [ 6561   729    81     9     1]\n",
      " [14641  1331   121    11     1]]\n"
     ]
    }
   ],
   "source": [
    "# Question 1: Write a function so that the columns of the output matrix are powers of the input vector. \n",
    "\n",
    "# The order of the powers is determined by the increasing boolean argument. Specifically, when increasing is False, \n",
    "# the i-th output column is the input vector raised element-wise to the power of N - i - 1.\n",
    "\n",
    "#HINT: Such a matrix with a geometric progression in each row is named for AlexandreTheophile Vandermonde.\n",
    "\n",
    "\n",
    "import numpy as np\n",
    "\n",
    "def mat_Vander(input_vector,n,bool_arg):\n",
    "    output_matrix=np.vander(x=input_vector,N=n,increasing=bool_arg)\n",
    "    return output_matrix\n",
    "\n",
    "\n",
    "input_vector=np.arange(5,13,2)\n",
    "n=5\n",
    "bool_arg_T = True\n",
    "bool_arg_F = False\n",
    "\n",
    "\n",
    "out_matrix_True=mat_Vander(input_vector,n,bool_arg_T)\n",
    "out_matrix_False=mat_Vander(input_vector,n,bool_arg_F)\n",
    "\n",
    "print(\"Input_Vector \\n\", input_vector, \"\\n\")\n",
    "print(\"Output Matrix when boolen argument is True \\n\", out_matrix_True, \"\\n\")\n",
    "print(\"Output Matrix when boolen argument is False \\n\", out_matrix_False,)"
   ]
  }
 ],
 "metadata": {
  "kernelspec": {
   "display_name": "Python 3",
   "language": "python",
   "name": "python3"
  },
  "language_info": {
   "codemirror_mode": {
    "name": "ipython",
    "version": 3
   },
   "file_extension": ".py",
   "mimetype": "text/x-python",
   "name": "python",
   "nbconvert_exporter": "python",
   "pygments_lexer": "ipython3",
   "version": "3.6.6"
  }
 },
 "nbformat": 4,
 "nbformat_minor": 2
}
